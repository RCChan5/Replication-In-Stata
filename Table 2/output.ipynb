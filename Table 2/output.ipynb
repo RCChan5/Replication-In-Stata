{
 "cells": [
  {
   "cell_type": "code",
   "execution_count": 1,
   "metadata": {},
   "outputs": [],
   "source": [
    "## IMPORTING LIBRARIES USED\n",
    "import pandas as pd\n"
   ]
  },
  {
   "cell_type": "code",
   "execution_count": 41,
   "metadata": {},
   "outputs": [
    {
     "name": "stdout",
     "output_type": "stream",
     "text": [
      "column6.txt\n",
      "Line 1: nonwhite\t-0.242***\n",
      "Line 2: (0.0427)\n",
      "------\n",
      "Line 1: viet_era\t0.0885\n",
      "Line 2: (0.0766)\n",
      "------\n",
      "Line 1: officer\t0.242***\n",
      "Line 2: (0.0660)\n",
      "------\n",
      "Line 1: drafted\t0.0307\n",
      "Line 2: (0.0412)\n",
      "------\n",
      "Line 1: anyva\t0.0838***\n",
      "Line 2: (0.0299)\n",
      "------\n",
      "Line 1: entgrade\t0.0844***\n",
      "Line 2: (0.0106)\n",
      "------\n",
      "Line 1: R-squared\t0.151\n",
      "Line 2: Standard errors in parentheses\n",
      "------\n"
     ]
    }
   ],
   "source": [
    "import pandas as pd\n",
    "\n",
    "# Specify the path to your text file\n",
    "file_path = 'column6.txt'\n",
    "\n",
    "\n",
    "with open(file_path, 'r') as file:\n",
    "    lines = file.readlines()\n",
    "print(file_path)\n",
    "# Using a for loop to iterate through every 2 lines and step by 2 lines\n",
    "for i in range(1, len(lines), 2):\n",
    "    line1 = lines[i].strip()\n",
    "    line2 = lines[i + 1].strip() if i + 1 < len(lines) else None  # Handle the case where there's an odd number of lines\n",
    "\n",
    "    if \"VARIABLE\" in  line1:\n",
    "        continue\n",
    "    if \"age_cat\" in  line1:\n",
    "        continue\n",
    "    if \"Const\" in  line1:\n",
    "        continue\n",
    "    if \"p<0.01\" in  line1:\n",
    "        continue\n",
    "    if \"Obser\" in  line2:\n",
    "        continue\n",
    "    # Your code to process the lines goes here\n",
    "    # For example, you can print the lines:\n",
    "    print(\"Line 1:\", line1)\n",
    "    print(\"Line 2:\", line2)\n",
    "    print(\"------\")\n"
   ]
  }
 ],
 "metadata": {
  "kernelspec": {
   "display_name": "Python 3",
   "language": "python",
   "name": "python3"
  },
  "language_info": {
   "name": "python",
   "version": "3.11.0"
  }
 },
 "nbformat": 4,
 "nbformat_minor": 2
}
